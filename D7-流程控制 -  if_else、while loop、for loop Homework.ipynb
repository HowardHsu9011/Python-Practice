{
 "cells": [
  {
   "cell_type": "markdown",
   "metadata": {
    "colab_type": "text",
    "id": "P6xk2_jLsvFF"
   },
   "source": [
    "# [作業目標]\n",
    "\n",
    "1. 有一個 List 包含 10 個元素：[1, 2, 3, 4, 5, 6, 7, 8, 9, 0]，如果調整成偶數放前面，奇數放後面的樣子？結果會像是 [2, 4, 6, 8, 0, 1, 3, 5, 7, 9]\n",
    "\n",
    "2. 在數學中，用 n! 來表示階乘，例如，4! =1×2×3×4 =24。請分別 (1) 用 for 迴圈 (2) 用 while 迴圈完成一個程式，讓使用者輸入 n，印出 n!\n",
    "\n",
    "\n",
    "\n"
   ]
  },
  {
   "cell_type": "markdown",
   "metadata": {
    "colab_type": "text",
    "id": "uXGll28asvFS"
   },
   "source": [
    "# 作業 "
   ]
  },
  {
   "cell_type": "markdown",
   "metadata": {},
   "source": [
    "### 1. 有一個 List 包含 10 個元素：[1, 2, 3, 4, 5, 6, 7, 8, 9, 0]，如果調整成偶數放前面，奇數放後面的樣子？結果會像是 [2, 4, 6, 8, 0, 1, 3, 5, 7, 9]\n",
    "\n",
    "\n",
    "\n",
    "\n"
   ]
  },
  {
   "cell_type": "code",
   "execution_count": 7,
   "metadata": {
    "colab": {},
    "colab_type": "code",
    "id": "5QrYoyNWsvFS"
   },
   "outputs": [
    {
     "data": {
      "text/plain": [
       "[2, 4, 6, 8, 0, 1, 3, 5, 7, 9]"
      ]
     },
     "execution_count": 7,
     "metadata": {},
     "output_type": "execute_result"
    }
   ],
   "source": [
    "'''\n",
    "Your Code\n",
    "'''\n",
    "L = [1, 2, 3, 4, 5, 6, 7, 8, 9, 0]\n",
    "\n",
    "oddList = []\n",
    "evenList = []\n",
    "for val in L:\n",
    "    if val % 2 == 0:\n",
    "        evenList.append(val)\n",
    "    else:\n",
    "        oddList.append(val)\n",
    "NewList = evenList + oddList\n",
    "NewList"
   ]
  },
  {
   "cell_type": "markdown",
   "metadata": {},
   "source": [
    "### 2. 在數學中，用 n! 來表示階乘，例如，4! =1×2×3×4 =24。請分別 (1) 用 for 迴圈 (2) 用 while 迴圈完成一個程式，讓使用者輸入 n，印出 n!\n",
    "\n"
   ]
  },
  {
   "cell_type": "code",
   "execution_count": 28,
   "metadata": {
    "colab": {},
    "colab_type": "code",
    "id": "e1gVI0tvsvFY",
    "scrolled": false
   },
   "outputs": [
    {
     "name": "stdout",
     "output_type": "stream",
     "text": [
      "請輸入一個正整數:4\n",
      "n!= 24\n"
     ]
    }
   ],
   "source": [
    "\n",
    "'''\n",
    "Your Code\n",
    "'''\n",
    "num = input('請輸入一個正整數:')\n",
    "num= int(num)\n",
    "x = 1\n",
    "\n",
    "for i in range(1, num+1):\n",
    "    x = x * i\n",
    "print('n!=',x)\n"
   ]
  },
  {
   "cell_type": "code",
   "execution_count": 30,
   "metadata": {},
   "outputs": [
    {
     "name": "stdout",
     "output_type": "stream",
     "text": [
      "請輸入一個正整數:4\n",
      "n!= 24\n"
     ]
    }
   ],
   "source": [
    "num = input('請輸入一個正整數:')\n",
    "num= int(num)\n",
    "x=1\n",
    "i=1\n",
    "\n",
    "while i < num:\n",
    "    i = i + 1\n",
    "    x = x * i\n",
    "print('n!=',x)"
   ]
  }
 ],
 "metadata": {
  "colab": {
   "name": "Day_023_HW.ipynb",
   "provenance": []
  },
  "kernelspec": {
   "display_name": "Python 3",
   "language": "python",
   "name": "python3"
  },
  "language_info": {
   "codemirror_mode": {
    "name": "ipython",
    "version": 3
   },
   "file_extension": ".py",
   "mimetype": "text/x-python",
   "name": "python",
   "nbconvert_exporter": "python",
   "pygments_lexer": "ipython3",
   "version": "3.8.8"
  }
 },
 "nbformat": 4,
 "nbformat_minor": 1
}
