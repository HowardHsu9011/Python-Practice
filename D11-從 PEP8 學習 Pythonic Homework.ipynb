{
 "cells": [
  {
   "cell_type": "markdown",
   "metadata": {
    "colab_type": "text",
    "id": "P6xk2_jLsvFF"
   },
   "source": [
    "# [作業目標]\n",
    "\n",
    "\n",
    "1. [簡答題] 請問 PEP8 為何要建議採用「四個空格的方式縮排」，而不是 Tab 或是兩個空格？\n",
    "\n",
    "2. [簡答題] 請閱讀 PEP8 文件後，分享三個你覺得印象最深刻的部分？\n",
    "\n"
   ]
  },
  {
   "cell_type": "markdown",
   "metadata": {
    "colab_type": "text",
    "id": "uXGll28asvFS"
   },
   "source": [
    "# 作業 "
   ]
  },
  {
   "cell_type": "markdown",
   "metadata": {},
   "source": [
    "### 1. [簡答題] 請問 PEP8 為何要建議採用「四個空格的方式縮排」，而不是 Tab 或是兩個空格？"
   ]
  },
  {
   "cell_type": "markdown",
   "metadata": {},
   "source": [
    "因為不同系統，如Windows、Linus的Tab間距是不一致的，所以可能會導致Python執行時發生Error"
   ]
  },
  {
   "cell_type": "markdown",
   "metadata": {},
   "source": [
    "### 2. [簡答題] 請閱讀 PEP8 文件後，分享三個你覺得印象最深刻的部分？"
   ]
  },
  {
   "cell_type": "code",
   "execution_count": 1,
   "metadata": {},
   "outputs": [],
   "source": [
    "# 1. 垂直縮排，首行不能有參數.\n",
    "# 2. 括號結束符與最後行的首字符對齊，如：\n",
    "my_list = [\n",
    "    1, 2, 3,\n",
    "    4, 5, 6,\n",
    "    ]\n",
    "# 3. 使用Tab還是空格縮排:用空格\n",
    "# 4. 每行 import 只導入一個模組：\n",
    "#正確:\n",
    "import os\n",
    "import sys\n",
    "#錯誤：\n",
    "import sys, os\n",
    "# 正確：同一模組中的內容可以在同一行導入\n",
    "from subprocess import Popen, PIPE"
   ]
  }
 ],
 "metadata": {
  "colab": {
   "name": "Day_023_HW.ipynb",
   "provenance": []
  },
  "kernelspec": {
   "display_name": "Python 3",
   "language": "python",
   "name": "python3"
  },
  "language_info": {
   "codemirror_mode": {
    "name": "ipython",
    "version": 3
   },
   "file_extension": ".py",
   "mimetype": "text/x-python",
   "name": "python",
   "nbconvert_exporter": "python",
   "pygments_lexer": "ipython3",
   "version": "3.8.8"
  }
 },
 "nbformat": 4,
 "nbformat_minor": 1
}
