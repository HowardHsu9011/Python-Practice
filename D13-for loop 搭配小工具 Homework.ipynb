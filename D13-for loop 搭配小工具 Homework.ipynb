{
 "cells": [
  {
   "cell_type": "markdown",
   "metadata": {
    "id": "P6xk2_jLsvFF"
   },
   "source": [
    "# [作業目標]\n",
    "\n",
    "\n",
    "1. 請將一個字典的 Key 和 Value 對調，例如：\n",
    "\n",
    "  * 輸入：{\"name\": \"qiwsir\", \"site\": \"qiwsir.github.io\", \"lang\": \"python\"}\n",
    "  * 輸出：{\"qiwsir\": \"name\", \"qiwsir.github.io\": \"site\", \"python\": \"lang\"}\n",
    "\n",
    "\n",
    "2. 有兩個由 Dictionary 所組成的 List，請問如何依照相同 index 合併成一個 List。\n",
    "\n",
    "\n"
   ]
  },
  {
   "cell_type": "markdown",
   "metadata": {
    "id": "uXGll28asvFS"
   },
   "source": [
    "# 作業 "
   ]
  },
  {
   "cell_type": "markdown",
   "metadata": {
    "id": "5EuFjUvwBBeO"
   },
   "source": [
    "### 1. 請將一個字典的 Key 和 Value 對調，例如：\n",
    "\n",
    "* 輸入：{\"name\": \"qiwsir\", \"site\": \"qiwsir.github.io\", \"lang\": \"python\"}\n",
    "* 輸出：{\"qiwsir\": \"name\", \"qiwsir.github.io\": \"site\", \"python\": \"lang\"}"
   ]
  },
  {
   "cell_type": "code",
   "execution_count": 15,
   "metadata": {
    "id": "jsS7JEAFBBeO"
   },
   "outputs": [
    {
     "name": "stdout",
     "output_type": "stream",
     "text": [
      "{'name': 'qiwsir', 'site': 'qiwsir.github.io', 'lang': 'python'}\n"
     ]
    }
   ],
   "source": [
    "org = {\"name\": \"qiwsir\", \"site\": \"qiwsir.github.io\", \"lang\": \"python\"}\n",
    "print(org)"
   ]
  },
  {
   "cell_type": "code",
   "execution_count": 16,
   "metadata": {},
   "outputs": [
    {
     "name": "stdout",
     "output_type": "stream",
     "text": [
      "{'qiwsir': 'name', 'qiwsir.github.io': 'site', 'python': 'lang'}\n"
     ]
    }
   ],
   "source": [
    "# 建立一個 trans的空字典，用zip將原本字典的值、鍵值分別放進trans裡\n",
    "# 當有兩個以上的可迭代列表想同時進行迭代，可以利用 zip 將他們壓縮在一起\n",
    "trans = dict(zip(org.values(), org.keys()))\n",
    "print(trans)"
   ]
  },
  {
   "cell_type": "markdown",
   "metadata": {
    "id": "vAOXJMPWBBeP"
   },
   "source": [
    "### 2. 有兩個由 Dictionary 所組成的 List，請問如何依照相同 index 合併成一個 List。"
   ]
  },
  {
   "cell_type": "code",
   "execution_count": 15,
   "metadata": {
    "id": "wJYQZ8arBBeP"
   },
   "outputs": [
    {
     "name": "stdout",
     "output_type": "stream",
     "text": [
      "[{'name': 'Mark', 'sex': 'male', 'age': 16}, {'name': 'Mary', 'sex': 'female', 'age': 18}]\n"
     ]
    }
   ],
   "source": [
    "a = [{'name': 'Mark', 'sex': 'male'}, {'name': 'Mary', 'sex': 'female'}]\n",
    "b = [{'age': 16}, {'age': 18}]\n",
    "L = []\n",
    "\n",
    "for i, j in zip(a,b): \n",
    "#     print(i,j) # {'name': 'Mark', 'sex': 'male'} {'age': 16} ,{'name': 'Mary', 'sex': 'female'} {'age': 18}\n",
    "    for key, value in j.items():\n",
    "        i[key]=value\n",
    "#         print(i) #{'name': 'Mark', 'sex': 'male', 'age': 16} , {'name': 'Mary', 'sex': 'female', 'age': 18}\n",
    "        L.append(i)\n",
    "\n",
    "print(L) # [{'name': 'Mark', 'sex': 'male', 'age': 16}, {'name': 'Mary', 'sex': 'female', 'age': 18}]"
   ]
  },
  {
   "cell_type": "code",
   "execution_count": 16,
   "metadata": {},
   "outputs": [
    {
     "name": "stdout",
     "output_type": "stream",
     "text": [
      "[{'name': 'Mark', 'sex': 'male', 'age': 16}, {'name': 'Mary', 'sex': 'female', 'age': 18}]\n"
     ]
    }
   ],
   "source": [
    "# Another method\n",
    "L=[dict(list(i.items())+list(j.items())) for i,j in zip(a,b)]\n",
    "\n",
    "'''\n",
    "list(i.items())+list(j.items())取得i,j的值 ex:l[0],l[1]可能\n",
    "for i,j in zip(a,b) 把a[0]和b[0]加再一起\n",
    "'''\n",
    "print(L)"
   ]
  }
 ],
 "metadata": {
  "colab": {
   "name": "13 Homework.ipynb",
   "provenance": []
  },
  "kernelspec": {
   "display_name": "Python 3",
   "language": "python",
   "name": "python3"
  },
  "language_info": {
   "codemirror_mode": {
    "name": "ipython",
    "version": 3
   },
   "file_extension": ".py",
   "mimetype": "text/x-python",
   "name": "python",
   "nbconvert_exporter": "python",
   "pygments_lexer": "ipython3",
   "version": "3.8.8"
  }
 },
 "nbformat": 4,
 "nbformat_minor": 1
}
