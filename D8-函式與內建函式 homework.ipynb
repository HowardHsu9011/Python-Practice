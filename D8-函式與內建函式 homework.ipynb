{
 "cells": [
  {
   "cell_type": "code",
   "execution_count": 6,
   "id": "88fcab88",
   "metadata": {},
   "outputs": [],
   "source": [
    "# 1.完成 (1) 計算平方 和 (2) 計算平方根 的函式"
   ]
  },
  {
   "cell_type": "code",
   "execution_count": 14,
   "id": "41bfcf85",
   "metadata": {},
   "outputs": [
    {
     "name": "stdout",
     "output_type": "stream",
     "text": [
      "請輸入一個正整數:9\n",
      "The square of x is 81\n",
      "The square root of x is 3.0\n"
     ]
    }
   ],
   "source": [
    "def squ(x):\n",
    "    return x**2\n",
    "def squt(x):\n",
    "    return x**0.5\n",
    "\n",
    "x= int(input('請輸入一個正整數:'))\n",
    "\n",
    "print('The square of x is', squ(x))\n",
    "print('The square root of x is', squt(x))"
   ]
  },
  {
   "cell_type": "code",
   "execution_count": 16,
   "id": "2eb9701d",
   "metadata": {},
   "outputs": [],
   "source": [
    "# 2. 寫一個回傳 n! 的函式"
   ]
  },
  {
   "cell_type": "code",
   "execution_count": 31,
   "id": "5ac8ee03",
   "metadata": {},
   "outputs": [
    {
     "name": "stdout",
     "output_type": "stream",
     "text": [
      "Number: 4\n",
      "n!= 24\n"
     ]
    }
   ],
   "source": [
    "def step(x):\n",
    "    a = 0\n",
    "    for i in range(x-1):\n",
    "        a = a + 1\n",
    "        x = x * a\n",
    "    return x\n",
    "n = int(input(\"Number: \"))\n",
    "print('n!=',step(n))"
   ]
  }
 ],
 "metadata": {
  "kernelspec": {
   "display_name": "Python 3",
   "language": "python",
   "name": "python3"
  },
  "language_info": {
   "codemirror_mode": {
    "name": "ipython",
    "version": 3
   },
   "file_extension": ".py",
   "mimetype": "text/x-python",
   "name": "python",
   "nbconvert_exporter": "python",
   "pygments_lexer": "ipython3",
   "version": "3.8.8"
  }
 },
 "nbformat": 4,
 "nbformat_minor": 5
}
